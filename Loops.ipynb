{
 "cells": [
  {
   "cell_type": "code",
   "execution_count": null,
   "metadata": {},
   "outputs": [],
   "source": [
    "##1. Write a program to print “Bright IT Career” ten times using for loop"
   ]
  },
  {
   "cell_type": "code",
   "execution_count": 1,
   "metadata": {},
   "outputs": [
    {
     "name": "stdout",
     "output_type": "stream",
     "text": [
      "BRIGHT IT CAREER\n",
      "BRIGHT IT CAREER\n",
      "BRIGHT IT CAREER\n",
      "BRIGHT IT CAREER\n",
      "BRIGHT IT CAREER\n",
      "BRIGHT IT CAREER\n",
      "BRIGHT IT CAREER\n",
      "BRIGHT IT CAREER\n",
      "BRIGHT IT CAREER\n",
      "BRIGHT IT CAREER\n"
     ]
    }
   ],
   "source": [
    "for i in range (10):\n",
    "    print(\"BRIGHT IT CAREER\")"
   ]
  },
  {
   "cell_type": "code",
   "execution_count": 3,
   "metadata": {},
   "outputs": [],
   "source": [
    "##2. Write a program to print 1 to 20 numbers using the while loop"
   ]
  },
  {
   "cell_type": "code",
   "execution_count": 7,
   "metadata": {},
   "outputs": [
    {
     "name": "stdout",
     "output_type": "stream",
     "text": [
      "1\n",
      "2\n",
      "3\n",
      "4\n",
      "5\n",
      "6\n",
      "7\n",
      "8\n",
      "9\n",
      "10\n",
      "11\n",
      "12\n",
      "13\n",
      "14\n",
      "15\n",
      "16\n",
      "17\n",
      "18\n",
      "19\n",
      "20\n"
     ]
    }
   ],
   "source": [
    "i=1\n",
    "while(i<=20):\n",
    "    print(i)\n",
    "    i +=1"
   ]
  },
  {
   "cell_type": "code",
   "execution_count": 8,
   "metadata": {},
   "outputs": [],
   "source": [
    "##3. Program to equal operator and not equal operators\n"
   ]
  },
  {
   "cell_type": "code",
   "execution_count": 11,
   "metadata": {},
   "outputs": [
    {
     "name": "stdout",
     "output_type": "stream",
     "text": [
      "True\n",
      "True\n"
     ]
    }
   ],
   "source": [
    "##Equal Operator\n",
    "x=4\n",
    "y=4\n",
    "print(x==y)\n",
    "\n",
    "##Not Equal Operator\n",
    "x=7\n",
    "y=8\n",
    "print(x!=y)"
   ]
  },
  {
   "cell_type": "code",
   "execution_count": 12,
   "metadata": {},
   "outputs": [],
   "source": [
    "##4. Write a program to print the odd and even numbers."
   ]
  },
  {
   "cell_type": "code",
   "execution_count": 13,
   "metadata": {},
   "outputs": [
    {
     "name": "stdout",
     "output_type": "stream",
     "text": [
      "0 is even\n",
      "1 is odd\n",
      "2 is even\n",
      "3 is odd\n",
      "4 is even\n",
      "5 is odd\n",
      "6 is even\n",
      "7 is odd\n",
      "8 is even\n",
      "9 is odd\n"
     ]
    }
   ],
   "source": [
    "for i in range(10):\n",
    "    if((i%2)==0):\n",
    "        print(i,\"is even\")\n",
    "    else:\n",
    "        print(i,\"is odd\")\n"
   ]
  },
  {
   "cell_type": "code",
   "execution_count": 14,
   "metadata": {},
   "outputs": [],
   "source": [
    "##5. Write a program to print largest number among three numbers.\n"
   ]
  },
  {
   "cell_type": "code",
   "execution_count": 18,
   "metadata": {},
   "outputs": [
    {
     "name": "stdout",
     "output_type": "stream",
     "text": [
      "Enter first number :3\n",
      "Enter second number :4\n",
      "Enter third number :6\n",
      "The largest number is :  6\n"
     ]
    }
   ],
   "source": [
    "num1=int(input(\"Enter first number :\"))\n",
    "num2=int(input(\"Enter second number :\"))\n",
    "num3=int(input(\"Enter third number :\"))\n",
    "if((num1>=num2)and(num1>=num3)):\n",
    "      largest=num1\n",
    "elif((num2>=num1)and(num2>=num3)):\n",
    "      largest=num2\n",
    "else:\n",
    "      largest=num3\n",
    "print(\"The largest number is : \",largest)"
   ]
  },
  {
   "cell_type": "code",
   "execution_count": 19,
   "metadata": {},
   "outputs": [],
   "source": [
    "##6. Write a program to print even number between 10 and 100 using while loop\n"
   ]
  },
  {
   "cell_type": "code",
   "execution_count": 4,
   "metadata": {},
   "outputs": [
    {
     "name": "stdout",
     "output_type": "stream",
     "text": [
      "Enter the end value :100\n",
      "2\n",
      "4\n",
      "6\n",
      "8\n",
      "10\n",
      "12\n",
      "14\n",
      "16\n",
      "18\n",
      "20\n",
      "22\n",
      "24\n",
      "26\n",
      "28\n",
      "30\n",
      "32\n",
      "34\n",
      "36\n",
      "38\n",
      "40\n",
      "42\n",
      "44\n",
      "46\n",
      "48\n",
      "50\n",
      "52\n",
      "54\n",
      "56\n",
      "58\n",
      "60\n",
      "62\n",
      "64\n",
      "66\n",
      "68\n",
      "70\n",
      "72\n",
      "74\n",
      "76\n",
      "78\n",
      "80\n",
      "82\n",
      "84\n",
      "86\n",
      "88\n",
      "90\n",
      "92\n",
      "94\n",
      "96\n",
      "98\n"
     ]
    }
   ],
   "source": [
    "maximum =int(input(\"Enter the end value :\"))\n",
    "number=1\n",
    "while number<maximum:\n",
    "    if(number%2==0):\n",
    "       print(\"{0}\".format(number))\n",
    "    number +=1\n"
   ]
  },
  {
   "cell_type": "code",
   "execution_count": 5,
   "metadata": {},
   "outputs": [],
   "source": [
    "##7. Write a program to print 1 to 10 using the do-while loop statement."
   ]
  },
  {
   "cell_type": "code",
   "execution_count": 14,
   "metadata": {},
   "outputs": [
    {
     "name": "stdout",
     "output_type": "stream",
     "text": [
      "1\n",
      "2\n",
      "3\n",
      "4\n",
      "5\n",
      "6\n",
      "7\n",
      "8\n",
      "9\n",
      "10\n"
     ]
    }
   ],
   "source": [
    "i=1\n",
    "\n",
    "while True:\n",
    "    \n",
    "    print(i)\n",
    "    i +=1\n",
    "\n",
    "    if(i>10):\n",
    "      break"
   ]
  },
  {
   "cell_type": "code",
   "execution_count": 15,
   "metadata": {},
   "outputs": [],
   "source": [
    "##8. Write a program to find Armstrong number or not."
   ]
  },
  {
   "cell_type": "code",
   "execution_count": 18,
   "metadata": {},
   "outputs": [
    {
     "name": "stdout",
     "output_type": "stream",
     "text": [
      "Enter the number :371\n",
      "371 is an Armstrong nymber\n"
     ]
    }
   ],
   "source": [
    "n=int(input(\"Enter the number :\"))\n",
    "sum=0\n",
    "order=len(str(n))\n",
    "copy_n=n\n",
    "while(n>0):\n",
    "    digit = n%10\n",
    "    sum +=digit **order\n",
    "    n = n//10\n",
    "    \n",
    "if(sum == copy_n):\n",
    "    print(f\"{copy_n} is an Armstrong nymber\")\n",
    "else:\n",
    "    print(f\"{copy_n} is not an Armstrong nymber\")"
   ]
  },
  {
   "cell_type": "code",
   "execution_count": 19,
   "metadata": {},
   "outputs": [],
   "source": [
    "##9. Write a program to find the prime or not."
   ]
  },
  {
   "cell_type": "code",
   "execution_count": 37,
   "metadata": {},
   "outputs": [
    {
     "name": "stdout",
     "output_type": "stream",
     "text": [
      "Enter the number :13\n",
      "13 is a prime number\n"
     ]
    }
   ],
   "source": [
    "num=int(input(\"Enter the number :\"))\n",
    "\n",
    "for i in range(2, num):\n",
    "        if (num % i) == 0:\n",
    "            print(num, \"is not a prime number\")\n",
    "            break\n",
    "else:\n",
    "    print(num, \"is a prime number\")\n",
    "    \n",
    "\n"
   ]
  },
  {
   "cell_type": "code",
   "execution_count": null,
   "metadata": {},
   "outputs": [],
   "source": [
    "##10. Write a program to palindrome or not."
   ]
  },
  {
   "cell_type": "code",
   "execution_count": 1,
   "metadata": {},
   "outputs": [
    {
     "name": "stdout",
     "output_type": "stream",
     "text": [
      "Enter number :121\n",
      "Palindrome\n"
     ]
    }
   ],
   "source": [
    "n=int(input(\"Enter number :\"))\n",
    "rev=0\n",
    "x=n\n",
    "while(n>0):\n",
    "     rev=(rev*10)+n%10\n",
    "     n=n//10\n",
    "if(x==rev):\n",
    "        print(\"Palindrome\")\n",
    "else:\n",
    "        print(\"Not a Palindromre\")"
   ]
  },
  {
   "cell_type": "code",
   "execution_count": null,
   "metadata": {},
   "outputs": [],
   "source": [
    "##11. Program to check whether a number is EVEN or ODD using switch."
   ]
  },
  {
   "cell_type": "code",
   "execution_count": 4,
   "metadata": {},
   "outputs": [
    {
     "name": "stdout",
     "output_type": "stream",
     "text": [
      "Enter number :6\n",
      "Even\n"
     ]
    }
   ],
   "source": [
    "n=int(input(\"Enter number :\"))\n",
    "if(n%2==0):\n",
    "      print(\"Even\")\n",
    "else:\n",
    "      print(\"Odd\")"
   ]
  },
  {
   "cell_type": "code",
   "execution_count": 5,
   "metadata": {},
   "outputs": [],
   "source": [
    "##12. Print gender (Male/Female) program according to given M/F using switch."
   ]
  },
  {
   "cell_type": "code",
   "execution_count": null,
   "metadata": {},
   "outputs": [],
   "source": []
  },
  {
   "cell_type": "code",
   "execution_count": 6,
   "metadata": {},
   "outputs": [],
   "source": [
    "##13. Program for multiple if else statement(Largest number in 10,20 and 30)"
   ]
  },
  {
   "cell_type": "code",
   "execution_count": 7,
   "metadata": {},
   "outputs": [
    {
     "name": "stdout",
     "output_type": "stream",
     "text": [
      "The largest number is :  30\n"
     ]
    }
   ],
   "source": [
    "num1=10\n",
    "num2=20\n",
    "num3=30\n",
    "if((num1>=num2)and(num1>=num3)):\n",
    "      largest=num1\n",
    "elif((num2>=num1)and(num2>=num3)):\n",
    "      largest=num2\n",
    "else:\n",
    "      largest=num3\n",
    "print(\"The largest number is : \",largest)"
   ]
  },
  {
   "cell_type": "code",
   "execution_count": null,
   "metadata": {},
   "outputs": [],
   "source": []
  }
 ],
 "metadata": {
  "kernelspec": {
   "display_name": "Python 3",
   "language": "python",
   "name": "python3"
  },
  "language_info": {
   "codemirror_mode": {
    "name": "ipython",
    "version": 3
   },
   "file_extension": ".py",
   "mimetype": "text/x-python",
   "name": "python",
   "nbconvert_exporter": "python",
   "pygments_lexer": "ipython3",
   "version": "3.7.3"
  }
 },
 "nbformat": 4,
 "nbformat_minor": 2
}
