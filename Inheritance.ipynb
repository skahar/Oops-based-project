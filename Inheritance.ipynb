{
 "cells": [
  {
   "cell_type": "code",
   "execution_count": 1,
   "metadata": {},
   "outputs": [],
   "source": [
    "##A, B and C are classes\n",
    "##A is a super class. B is a sub class of A. C is a sub class of B.\n",
    "##Create three methods in each class, 2 methods are specific to each class and third method (override method) should be in all three Classes A, B and C"
   ]
  },
  {
   "cell_type": "code",
   "execution_count": 22,
   "metadata": {},
   "outputs": [],
   "source": [
    "class A():\n",
    "    def feature1(self):\n",
    "       print(\"feature 1 is working\")\n",
    "    def feature2(self):\n",
    "       print(\"feature 2 is working\")\n",
    "    def feature3(self):\n",
    "       print(\"feature 3 is working\")\n",
    "        \n",
    "class B(A):\n",
    "    def feature4(self):\n",
    "       print(\"feature 4 is working\")\n",
    "    def feature5(self):\n",
    "       print(\"feature 5 is working\")\n",
    "    def feature3(self):\n",
    "       print(\"feature 3 is working\")\n",
    "    \n",
    "class C(B):\n",
    "    def feature6(self):\n",
    "       print(\"feature 6 is working\")\n",
    "    def feature7(self):\n",
    "       print(\"feature 7 is working\")\n",
    "    def feature3(self):\n",
    "       print(\"feature 3 is working\")\n",
    "   "
   ]
  },
  {
   "cell_type": "code",
   "execution_count": 4,
   "metadata": {},
   "outputs": [],
   "source": [
    "##Create a class with main method. Create an object for each class A, B and C in main method and call every method of each class using its own object/instance."
   ]
  },
  {
   "cell_type": "code",
   "execution_count": 13,
   "metadata": {},
   "outputs": [
    {
     "name": "stdout",
     "output_type": "stream",
     "text": [
      "feature 1 is working\n",
      "feature 2 is working\n",
      "feature 3 is working\n",
      "feature 4 is working\n",
      "feature 5 is working\n",
      "feature 3 is working\n",
      "feature 1 is working\n",
      "feature 2 is working\n",
      "feature 3 is working\n"
     ]
    }
   ],
   "source": [
    "a1=A()\n",
    "b1=B()\n",
    "c1=C()\n",
    "a1.feature1()\n",
    "a1.feature2()\n",
    "a1.feature3()\n",
    "b1.feature4()\n",
    "b1.feature5()\n",
    "b1.feature3()\n",
    "c1.feature1()\n",
    "c1.feature2()\n",
    "c1.feature3()\n"
   ]
  },
  {
   "cell_type": "code",
   "execution_count": 21,
   "metadata": {},
   "outputs": [
    {
     "name": "stdout",
     "output_type": "stream",
     "text": [
      "feature 3 is working\n"
     ]
    }
   ],
   "source": [
    "##Call an overridden method with super class reference to B and C class’s objects.\n",
    "b1=B()\n",
    "a1.feature3()\n"
   ]
  },
  {
   "cell_type": "code",
   "execution_count": null,
   "metadata": {},
   "outputs": [],
   "source": []
  },
  {
   "cell_type": "code",
   "execution_count": null,
   "metadata": {},
   "outputs": [],
   "source": []
  }
 ],
 "metadata": {
  "kernelspec": {
   "display_name": "Python 3",
   "language": "python",
   "name": "python3"
  },
  "language_info": {
   "codemirror_mode": {
    "name": "ipython",
    "version": 3
   },
   "file_extension": ".py",
   "mimetype": "text/x-python",
   "name": "python",
   "nbconvert_exporter": "python",
   "pygments_lexer": "ipython3",
   "version": "3.7.3"
  }
 },
 "nbformat": 4,
 "nbformat_minor": 2
}
