{
 "cells": [
  {
   "cell_type": "code",
   "execution_count": 1,
   "metadata": {},
   "outputs": [],
   "source": [
    "##1. Create an interface with only one method and implement it in a class. Call the method implemented."
   ]
  },
  {
   "cell_type": "code",
   "execution_count": 53,
   "metadata": {},
   "outputs": [
    {
     "name": "stdout",
     "output_type": "stream",
     "text": [
      "Child Class\n"
     ]
    }
   ],
   "source": [
    "from abc import ABC,abstractmethod\n",
    "class Father(ABC):\n",
    "    @abstractmethod\n",
    "    def desp1(self):\n",
    "     pass\n",
    "\n",
    "class Child():\n",
    "    def desp1(self):\n",
    "       print(\"Child Class\")\n",
    "        \n",
    "c1=Child()\n",
    "c1.desp1()"
   ]
  },
  {
   "cell_type": "code",
   "execution_count": 54,
   "metadata": {},
   "outputs": [],
   "source": [
    "##2. Create an interface with two methods, but implement only one in a class. Call the method implemented."
   ]
  },
  {
   "cell_type": "code",
   "execution_count": 55,
   "metadata": {},
   "outputs": [
    {
     "name": "stdout",
     "output_type": "stream",
     "text": [
      "Child Class\n"
     ]
    }
   ],
   "source": [
    "from abc import ABC,abstractmethod\n",
    "class Father(ABC):\n",
    "    @abstractmethod\n",
    "    def desp1(self):\n",
    "     pass\n",
    "    def desp2(self):\n",
    "     pass\n",
    "\n",
    "class Child():\n",
    "    def desp1(self):\n",
    "       print(\"Child Class\")\n",
    "    \n",
    "c1=Child()\n",
    "c1.desp1()"
   ]
  },
  {
   "cell_type": "code",
   "execution_count": 56,
   "metadata": {},
   "outputs": [],
   "source": [
    "##3. Use Interface instances to call the implemented method in the implemented class."
   ]
  },
  {
   "cell_type": "code",
   "execution_count": 57,
   "metadata": {},
   "outputs": [
    {
     "ename": "TypeError",
     "evalue": "Can't instantiate abstract class Father with abstract methods desp1",
     "output_type": "error",
     "traceback": [
      "\u001b[1;31m---------------------------------------------------------------------------\u001b[0m",
      "\u001b[1;31mTypeError\u001b[0m                                 Traceback (most recent call last)",
      "\u001b[1;32m<ipython-input-57-bd7cdc5e17cf>\u001b[0m in \u001b[0;36m<module>\u001b[1;34m\u001b[0m\n\u001b[0;32m     11\u001b[0m        \u001b[0mprint\u001b[0m\u001b[1;33m(\u001b[0m\u001b[1;34m\"Child Class\"\u001b[0m\u001b[1;33m)\u001b[0m\u001b[1;33m\u001b[0m\u001b[1;33m\u001b[0m\u001b[0m\n\u001b[0;32m     12\u001b[0m \u001b[1;33m\u001b[0m\u001b[0m\n\u001b[1;32m---> 13\u001b[1;33m \u001b[0mf1\u001b[0m\u001b[1;33m=\u001b[0m\u001b[0mFather\u001b[0m\u001b[1;33m(\u001b[0m\u001b[1;33m)\u001b[0m\u001b[1;33m\u001b[0m\u001b[1;33m\u001b[0m\u001b[0m\n\u001b[0m\u001b[0;32m     14\u001b[0m \u001b[0mf1\u001b[0m\u001b[1;33m.\u001b[0m\u001b[0mdesp1\u001b[0m\u001b[1;33m(\u001b[0m\u001b[1;33m)\u001b[0m\u001b[1;33m\u001b[0m\u001b[1;33m\u001b[0m\u001b[0m\n",
      "\u001b[1;31mTypeError\u001b[0m: Can't instantiate abstract class Father with abstract methods desp1"
     ]
    }
   ],
   "source": [
    "from abc import ABC,abstractmethod\n",
    "class Father(ABC):\n",
    "    @abstractmethod\n",
    "    def desp1(self):\n",
    "     pass\n",
    "    def desp2(self):\n",
    "     pass\n",
    "\n",
    "class Child():\n",
    "    def desp1(self):\n",
    "       print(\"Child Class\")\n",
    "    \n",
    "f1=Father()\n",
    "f1.desp1()"
   ]
  },
  {
   "cell_type": "code",
   "execution_count": 58,
   "metadata": {},
   "outputs": [],
   "source": [
    "##4. Create two interfaces with one method each. Implement these two interfaces in one class."
   ]
  },
  {
   "cell_type": "code",
   "execution_count": 59,
   "metadata": {},
   "outputs": [],
   "source": [
    "from abc import ABC,abstractmethod\n",
    "class Father(ABC):\n",
    "    @abstractmethod\n",
    "    def desp1(self):\n",
    "     pass\n",
    "\n",
    "class Father1(ABC):\n",
    "    @abstractmethod\n",
    "    def desp2(self):\n",
    "     pass\n",
    "\n",
    "class Child():\n",
    "    def desp1(self):\n",
    "       print(\"Child Class\")\n",
    "    def desp2(self):\n",
    "       print(\"Child Sub Class\")\n",
    "    "
   ]
  },
  {
   "cell_type": "code",
   "execution_count": 60,
   "metadata": {},
   "outputs": [],
   "source": [
    "##5. Create two interfaces with the same method (same signature) in both the interfaces.Implement these two interfaces in one class. Call the method."
   ]
  },
  {
   "cell_type": "code",
   "execution_count": 61,
   "metadata": {},
   "outputs": [
    {
     "name": "stdout",
     "output_type": "stream",
     "text": [
      "Child Sub Class\n"
     ]
    }
   ],
   "source": [
    "from abc import ABC,abstractmethod\n",
    "class Father(ABC):\n",
    "    @abstractmethod\n",
    "    def desp1(self):\n",
    "     pass\n",
    "\n",
    "class Father1(ABC):\n",
    "    @abstractmethod\n",
    "    def desp1(self):\n",
    "     pass\n",
    "\n",
    "class Child():\n",
    "    def desp1(self):\n",
    "       print(\"Child Class\")\n",
    "    def desp1(self):\n",
    "       print(\"Child Sub Class\")\n",
    "    \n",
    "c1=Child()\n",
    "c1.desp1()\n"
   ]
  },
  {
   "cell_type": "code",
   "execution_count": 62,
   "metadata": {},
   "outputs": [],
   "source": [
    "##6. Create an interface with a default method and implement it in a class. Do not provide implementation to the default method and call the method."
   ]
  },
  {
   "cell_type": "code",
   "execution_count": 70,
   "metadata": {},
   "outputs": [
    {
     "name": "stdout",
     "output_type": "stream",
     "text": [
      "3 6\n"
     ]
    }
   ],
   "source": [
    "from abc import ABC,abstractmethod\n",
    "class Father(ABC):\n",
    "    @abstractmethod\n",
    "    def __init__(self,a,b):\n",
    "     pass\n",
    "\n",
    "class Child():\n",
    "    def __init__(self,a,b):\n",
    "        self.a=a\n",
    "        self.b=b\n",
    "        print(a,b)\n",
    "        \n",
    "c1=Child(3,6)\n"
   ]
  },
  {
   "cell_type": "code",
   "execution_count": 64,
   "metadata": {},
   "outputs": [],
   "source": [
    "##7. Create an interface and inherit it from the other interface."
   ]
  },
  {
   "cell_type": "code",
   "execution_count": 36,
   "metadata": {},
   "outputs": [],
   "source": [
    "from abc import ABC,abstractmethod\n",
    "class Father(ABC):\n",
    "    @abstractmethod\n",
    "    def desp1(self):\n",
    "     pass\n",
    "\n",
    "class Child(Father):\n",
    "    @abstractmethod\n",
    "    def desp2(self):\n",
    "     pass"
   ]
  },
  {
   "cell_type": "code",
   "execution_count": 39,
   "metadata": {},
   "outputs": [],
   "source": [
    "##8. Create a PUBLIC interface with fields and methods, fields should have values assigned. Implement this interface to some class and print the values of the interface fields and call the interface method"
   ]
  },
  {
   "cell_type": "code",
   "execution_count": 43,
   "metadata": {},
   "outputs": [
    {
     "data": {
      "text/plain": [
       "9"
      ]
     },
     "execution_count": 43,
     "metadata": {},
     "output_type": "execute_result"
    }
   ],
   "source": [
    "from abc import ABC,abstractmethod\n",
    "class Father(ABC):\n",
    "    @abstractmethod\n",
    "    def desp1(self,a=5,b=4):\n",
    "     pass\n",
    "\n",
    "class Child():\n",
    "    def desp1(self,a=5,b=4):\n",
    "        s=a+b\n",
    "        return s\n",
    "    \n",
    "##f1=Father()\n",
    "c1=Child()\n",
    "c1.desp1()\n",
    "\n"
   ]
  },
  {
   "cell_type": "code",
   "execution_count": 44,
   "metadata": {},
   "outputs": [],
   "source": [
    "##9. Create a PRIVATE or PROTECTED interface and print the values as above scenario."
   ]
  },
  {
   "cell_type": "code",
   "execution_count": 45,
   "metadata": {},
   "outputs": [],
   "source": [
    "##10. Create an interface with private, public and protected fields."
   ]
  },
  {
   "cell_type": "code",
   "execution_count": 46,
   "metadata": {},
   "outputs": [],
   "source": [
    "##11. Create an interface with static final variabl"
   ]
  },
  {
   "cell_type": "code",
   "execution_count": null,
   "metadata": {},
   "outputs": [],
   "source": []
  }
 ],
 "metadata": {
  "kernelspec": {
   "display_name": "Python 3",
   "language": "python",
   "name": "python3"
  },
  "language_info": {
   "codemirror_mode": {
    "name": "ipython",
    "version": 3
   },
   "file_extension": ".py",
   "mimetype": "text/x-python",
   "name": "python",
   "nbconvert_exporter": "python",
   "pygments_lexer": "ipython3",
   "version": "3.7.3"
  }
 },
 "nbformat": 4,
 "nbformat_minor": 2
}
