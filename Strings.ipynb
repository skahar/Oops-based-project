{
 "cells": [
  {
   "cell_type": "code",
   "execution_count": 1,
   "metadata": {},
   "outputs": [],
   "source": [
    "##1. Different ways creating a string."
   ]
  },
  {
   "cell_type": "code",
   "execution_count": 6,
   "metadata": {},
   "outputs": [
    {
     "name": "stdout",
     "output_type": "stream",
     "text": [
      "Great Coffee\n",
      "Blue\n",
      "Rungta College\n",
      "of Engineering and\n",
      "technoloy\n"
     ]
    }
   ],
   "source": [
    "name=\"Great Coffee\"\n",
    "print(name)\n",
    "\n",
    "Colour='Blue'\n",
    "print(colour)\n",
    "\n",
    "institute=\"\"\"Rungta College\n",
    "of Engineering and\n",
    "technoloy\"\"\"\n",
    "print(institute)"
   ]
  },
  {
   "cell_type": "code",
   "execution_count": 7,
   "metadata": {},
   "outputs": [],
   "source": [
    "##2. Concatenating two strings using + operator."
   ]
  },
  {
   "cell_type": "code",
   "execution_count": 13,
   "metadata": {},
   "outputs": [
    {
     "name": "stdout",
     "output_type": "stream",
     "text": [
      "Swati Kahar\n"
     ]
    }
   ],
   "source": [
    "first_name='Swati'\n",
    "last_name='Kahar'\n",
    "full_name=first_name+ \" \"+last_name\n",
    "print(full_name)"
   ]
  },
  {
   "cell_type": "code",
   "execution_count": null,
   "metadata": {},
   "outputs": [],
   "source": [
    "##3. Finding the length of the string."
   ]
  },
  {
   "cell_type": "code",
   "execution_count": 18,
   "metadata": {},
   "outputs": [
    {
     "data": {
      "text/plain": [
       "'14'"
      ]
     },
     "execution_count": 18,
     "metadata": {},
     "output_type": "execute_result"
    }
   ],
   "source": [
    "college=\"Rungta College\"\n",
    "str(len(college))"
   ]
  },
  {
   "cell_type": "code",
   "execution_count": 19,
   "metadata": {},
   "outputs": [],
   "source": [
    "##4. Extract a string using Substring."
   ]
  },
  {
   "cell_type": "code",
   "execution_count": 26,
   "metadata": {},
   "outputs": [
    {
     "name": "stdout",
     "output_type": "stream",
     "text": [
      "Pyt\n",
      "Pytho\n",
      "thon Language\n",
      "Python Language\n",
      "Pto \n"
     ]
    }
   ],
   "source": [
    "name=\"Python Language\"\n",
    "print(name[0:3])\n",
    "print(name[:5])\n",
    "print(name[2:])\n",
    "print(name[:])\n",
    "print(name[0:8:2])"
   ]
  },
  {
   "cell_type": "code",
   "execution_count": 27,
   "metadata": {},
   "outputs": [],
   "source": [
    "##5. Searching in strings using indexOf()."
   ]
  },
  {
   "cell_type": "code",
   "execution_count": 41,
   "metadata": {},
   "outputs": [
    {
     "data": {
      "text/plain": [
       "1"
      ]
     },
     "execution_count": 41,
     "metadata": {},
     "output_type": "execute_result"
    }
   ],
   "source": [
    "name=(\"Python Language\")\n",
    "name.index(\"y\")"
   ]
  },
  {
   "cell_type": "code",
   "execution_count": 1,
   "metadata": {},
   "outputs": [],
   "source": [
    "##6. Matching a String Against a Regular Expression With matches()."
   ]
  },
  {
   "cell_type": "code",
   "execution_count": null,
   "metadata": {},
   "outputs": [],
   "source": []
  },
  {
   "cell_type": "code",
   "execution_count": 2,
   "metadata": {},
   "outputs": [],
   "source": [
    "##7. Compring strings using the methods equals()."
   ]
  },
  {
   "cell_type": "code",
   "execution_count": 5,
   "metadata": {},
   "outputs": [
    {
     "name": "stdout",
     "output_type": "stream",
     "text": [
      "name1 is equal to name2 False\n",
      "name1 is not equal to name2 True\n"
     ]
    }
   ],
   "source": [
    "name1=\"Python\"\n",
    "name2=\"Java\"\n",
    "print(\"name1 is equal to name2\",name1==name2)\n",
    "print(\"name1 is not equal to name2\",name1!=name2)"
   ]
  },
  {
   "cell_type": "code",
   "execution_count": 6,
   "metadata": {},
   "outputs": [],
   "source": [
    "##8. equalsIgnoreCase(), startsWith(), endsWith() and compareTo()."
   ]
  },
  {
   "cell_type": "code",
   "execution_count": 14,
   "metadata": {},
   "outputs": [
    {
     "name": "stdout",
     "output_type": "stream",
     "text": [
      "strings are the same\n"
     ]
    },
    {
     "data": {
      "text/plain": [
       "False"
      ]
     },
     "execution_count": 14,
     "metadata": {},
     "output_type": "execute_result"
    }
   ],
   "source": [
    "##equalsIgnoreCase()\n",
    "string1=\"PythON PROgram\"\n",
    "string2=\"python program\"\n",
    "if(string1.lower()==string2.lower()):\n",
    "     print(\"strings are the same\")\n",
    "else:\n",
    "     print(\"strings are not the same\")\n",
    "        \n",
    "##startsWith()\n",
    "string=\"Program\"\n",
    "string.startswith('P')\n",
    "string.startswith('a')\n",
    "string.startswith('a',5)\n",
    "\n",
    "## endsWith()\n",
    "string=\"Program\"\n",
    "string.endswith('m')\n",
    "string.endswith('P')\n",
    "\n",
    "##compareTo()"
   ]
  },
  {
   "cell_type": "code",
   "execution_count": 17,
   "metadata": {},
   "outputs": [],
   "source": [
    "##9. Trimming strings with trim()"
   ]
  },
  {
   "cell_type": "code",
   "execution_count": 18,
   "metadata": {},
   "outputs": [
    {
     "name": "stdout",
     "output_type": "stream",
     "text": [
      "Input String:\n",
      "     PythonLanguage\n",
      "String after trimming extra spaces:\n",
      "PythonLanguage\n"
     ]
    }
   ],
   "source": [
    "inp_str = \"     PythonLanguage\"\n",
    "print(\"Input String:\")\n",
    "print(inp_str)\n",
    "res = inp_str.strip()\n",
    "print(\"String after trimming extra spaces:\")\n",
    "print(res)"
   ]
  },
  {
   "cell_type": "code",
   "execution_count": 19,
   "metadata": {},
   "outputs": [],
   "source": [
    "##10. Replacing characters in strings with replace()."
   ]
  },
  {
   "cell_type": "code",
   "execution_count": 22,
   "metadata": {},
   "outputs": [
    {
     "name": "stdout",
     "output_type": "stream",
     "text": [
      "The owner was great\n"
     ]
    }
   ],
   "source": [
    "str=\"The owner is great\"\n",
    "print(str.replace(\"is\",\"was\"))"
   ]
  },
  {
   "cell_type": "code",
   "execution_count": 23,
   "metadata": {},
   "outputs": [],
   "source": [
    "##11. Splitting strings with split()"
   ]
  },
  {
   "cell_type": "code",
   "execution_count": 24,
   "metadata": {},
   "outputs": [
    {
     "data": {
      "text/plain": [
       "['Welcome', 'to', 'my', 'home']"
      ]
     },
     "execution_count": 24,
     "metadata": {},
     "output_type": "execute_result"
    }
   ],
   "source": [
    "str=\"Welcome to my home\"\n",
    "str.split()"
   ]
  },
  {
   "cell_type": "code",
   "execution_count": 25,
   "metadata": {},
   "outputs": [],
   "source": [
    "##12. Converting Numbers to Strings with valueOf()"
   ]
  },
  {
   "cell_type": "code",
   "execution_count": null,
   "metadata": {},
   "outputs": [],
   "source": []
  },
  {
   "cell_type": "code",
   "execution_count": 26,
   "metadata": {},
   "outputs": [],
   "source": [
    "##13. Converting integer objects to Strings."
   ]
  },
  {
   "cell_type": "code",
   "execution_count": null,
   "metadata": {},
   "outputs": [],
   "source": []
  },
  {
   "cell_type": "code",
   "execution_count": 28,
   "metadata": {},
   "outputs": [],
   "source": [
    "##14. Converting to uppercase and lowercase."
   ]
  },
  {
   "cell_type": "code",
   "execution_count": 29,
   "metadata": {},
   "outputs": [
    {
     "data": {
      "text/plain": [
       "'great city'"
      ]
     },
     "execution_count": 29,
     "metadata": {},
     "output_type": "execute_result"
    }
   ],
   "source": [
    "string=\"GREAT CITY\"\n",
    "string.lower()"
   ]
  },
  {
   "cell_type": "code",
   "execution_count": null,
   "metadata": {},
   "outputs": [],
   "source": []
  }
 ],
 "metadata": {
  "kernelspec": {
   "display_name": "Python 3",
   "language": "python",
   "name": "python3"
  },
  "language_info": {
   "codemirror_mode": {
    "name": "ipython",
    "version": 3
   },
   "file_extension": ".py",
   "mimetype": "text/x-python",
   "name": "python",
   "nbconvert_exporter": "python",
   "pygments_lexer": "ipython3",
   "version": "3.7.3"
  }
 },
 "nbformat": 4,
 "nbformat_minor": 2
}
