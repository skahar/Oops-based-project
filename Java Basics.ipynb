{
 "cells": [
  {
   "cell_type": "code",
   "execution_count": 18,
   "metadata": {},
   "outputs": [],
   "source": [
    "## 1. How to create a class, object, method and its signature"
   ]
  },
  {
   "cell_type": "code",
   "execution_count": 22,
   "metadata": {},
   "outputs": [
    {
     "name": "stdout",
     "output_type": "stream",
     "text": [
      "Hi I'm Sam\n",
      "I'm eligible to vote\n"
     ]
    }
   ],
   "source": [
    "##For 1 object\n",
    "class Person :\n",
    "    \n",
    "    def __init__(self):\n",
    "        self.name='Sam'\n",
    "        self.gender='Male'\n",
    "        self.age=22\n",
    "        \n",
    "    def talk(self):\n",
    "        print(\"Hi I'm\",self.name)\n",
    "        \n",
    "    def vote(self):\n",
    "        if self.age<18:\n",
    "            print(\"I'm not eligible to vote\")\n",
    "        else:\n",
    "            print(\"I'm eligible to vote\")\n",
    "            \n",
    "obj=Person()\n",
    "Person.talk(obj)\n",
    "Person.vote(obj)\n",
    "            "
   ]
  },
  {
   "cell_type": "code",
   "execution_count": 23,
   "metadata": {},
   "outputs": [
    {
     "name": "stdout",
     "output_type": "stream",
     "text": [
      "Hi I'm Sam\n",
      "I'm eligible to vote\n",
      "Hi I'm Jersy\n",
      "I'm not eligible to vote\n"
     ]
    }
   ],
   "source": [
    "##For 2 objects\n",
    "class Person:\n",
    "    \n",
    "    def __init__(self,n,g,a):\n",
    "        self.name=n\n",
    "        self.gender=g\n",
    "        self.age=a\n",
    "        \n",
    "    def talk(self):\n",
    "        print(\"Hi I'm\",self.name)\n",
    "        \n",
    "    def vote(self):\n",
    "        if self.age<18:\n",
    "            print(\"I'm not eligible to vote\")\n",
    "        else:\n",
    "            print(\"I'm eligible to vote\")\n",
    "            \n",
    "obj1=Person(\"Sam\",\"Male\",22)\n",
    "obj2=Person(\"Jersy\",\"Female\",16)\n",
    "\n",
    "obj1.talk()\n",
    "obj1.vote()\n",
    "\n",
    "obj2.talk()\n",
    "obj2.vote()"
   ]
  },
  {
   "cell_type": "code",
   "execution_count": 24,
   "metadata": {},
   "outputs": [],
   "source": [
    "##2. Write a program to print your name.\n"
   ]
  },
  {
   "cell_type": "code",
   "execution_count": 26,
   "metadata": {},
   "outputs": [
    {
     "name": "stdout",
     "output_type": "stream",
     "text": [
      "Enter your name: Swati Kahar\n",
      "Swati Kahar\n"
     ]
    }
   ],
   "source": [
    "name=input(\"Enter your name: \")\n",
    "print(name)"
   ]
  },
  {
   "cell_type": "code",
   "execution_count": 27,
   "metadata": {},
   "outputs": [],
   "source": [
    "##3. Write a program for a Single line comment, multi-line and documentation comment"
   ]
  },
  {
   "cell_type": "code",
   "execution_count": 1,
   "metadata": {},
   "outputs": [],
   "source": [
    "#It improves the readability of the code and helps to understand why this particular code was written\n",
    "#Comments will not alter the execution flow or change the outcome of the code.\n",
    "# 1.Single line comment-This comment starts with Hash symbol(#),This mentions the compiler they should treat the entire line as a comment.\n",
    "# 2.Multiline comment or block comment-Useful to explain complex code.Instead of adding in each line # symbol we can write the previous block of code inside \"triple-double-quotes\"or\"triple-single-quotes\"in the beggining and end of the blocks\n",
    "#If we write the block comments as first statements in a module,function,class or a method then these strings are called  documentation string or docstrings.These docstrings are useful to create an API documentation file from a python program."
   ]
  },
  {
   "cell_type": "code",
   "execution_count": 2,
   "metadata": {},
   "outputs": [],
   "source": [
    "##4. Define variables for different Data Types int, Boolean, char, float, double and print on the console\n",
    " "
   ]
  },
  {
   "cell_type": "code",
   "execution_count": 9,
   "metadata": {},
   "outputs": [
    {
     "name": "stdout",
     "output_type": "stream",
     "text": [
      "<class 'int'>\n",
      "<class 'float'>\n",
      "<class 'str'>\n",
      "True\n"
     ]
    }
   ],
   "source": [
    "x=5\n",
    "print(type(x))\n",
    "y=1.3\n",
    "print(type(y))\n",
    "z=(\"Hello\")\n",
    "print(type(z))\n",
    "num=1\n",
    "print(bool(num))"
   ]
  },
  {
   "cell_type": "code",
   "execution_count": 1,
   "metadata": {},
   "outputs": [],
   "source": [
    "##5. Define the local and Global variables with the same name and print both variables and understand the scope of the variable"
   ]
  },
  {
   "cell_type": "code",
   "execution_count": 9,
   "metadata": {},
   "outputs": [
    {
     "name": "stdout",
     "output_type": "stream",
     "text": [
      "Python is fantastic\n",
      "Python is awesome\n"
     ]
    }
   ],
   "source": [
    "#Any variable which is created inside the funtion is called local variable if it hasn't been declared as a global variable.\n",
    "#The scope of global variable is the entire program whereas the scope of the local variable is limited to the function where it is defined.\n",
    "x='awesome'\n",
    "\n",
    "def myfunc():\n",
    "\n",
    "    x='fantastic'\n",
    "    print(\"Python is \" +x)\n",
    "    \n",
    "myfunc()\n",
    " \n",
    "print(\"Python is \" +x)"
   ]
  },
  {
   "cell_type": "code",
   "execution_count": 10,
   "metadata": {},
   "outputs": [],
   "source": [
    "##6. Write a function to print your name and call the function from main method"
   ]
  },
  {
   "cell_type": "code",
   "execution_count": 12,
   "metadata": {},
   "outputs": [
    {
     "name": "stdout",
     "output_type": "stream",
     "text": [
      "Swati Kahar\n"
     ]
    }
   ],
   "source": [
    "def name():\n",
    "\n",
    "    print(\"Swati Kahar\")\n",
    "    \n",
    "name()"
   ]
  },
  {
   "cell_type": "code",
   "execution_count": null,
   "metadata": {},
   "outputs": [],
   "source": []
  }
 ],
 "metadata": {
  "kernelspec": {
   "display_name": "Python 3",
   "language": "python",
   "name": "python3"
  },
  "language_info": {
   "codemirror_mode": {
    "name": "ipython",
    "version": 3
   },
   "file_extension": ".py",
   "mimetype": "text/x-python",
   "name": "python",
   "nbconvert_exporter": "python",
   "pygments_lexer": "ipython3",
   "version": "3.7.3"
  }
 },
 "nbformat": 4,
 "nbformat_minor": 2
}
