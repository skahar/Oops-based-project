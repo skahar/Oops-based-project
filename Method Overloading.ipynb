{
 "cells": [
  {
   "cell_type": "code",
   "execution_count": 1,
   "metadata": {},
   "outputs": [],
   "source": [
    "##1. Write two methods with the same name but different number of parameters of same type and call the methods from main method"
   ]
  },
  {
   "cell_type": "code",
   "execution_count": 16,
   "metadata": {},
   "outputs": [
    {
     "name": "stdout",
     "output_type": "stream",
     "text": [
      "Provide at least 2 numbers:\n"
     ]
    }
   ],
   "source": [
    "class Compute:\n",
    "    def sum(self,a=None,b=None,c=None):\n",
    "      if a!=None and b!=None and c!=None:\n",
    "            s=a+b+c\n",
    "      elif a!=None and b!=None:\n",
    "            s=a*b\n",
    "      else:\n",
    "            s=\"Provide at least 2 numbers:\"\n",
    "            \n",
    "    \n",
    "      return s\n",
    "\n",
    "c1=Compute()\n",
    "print(c1.sum(10))"
   ]
  },
  {
   "cell_type": "code",
   "execution_count": 1,
   "metadata": {},
   "outputs": [],
   "source": [
    "##2. Write two methods with the same name but different number of parameters of different data type and call the methods from main method"
   ]
  },
  {
   "cell_type": "code",
   "execution_count": 36,
   "metadata": {},
   "outputs": [
    {
     "name": "stdout",
     "output_type": "stream",
     "text": [
      "30\n",
      "Name is a Navin Tom and Jerry\n"
     ]
    }
   ],
   "source": [
    "class Addition:\n",
    "    def add(self,a,b):\n",
    "        s=a+b\n",
    "        \n",
    "        return s\n",
    "        \n",
    "class Sum:\n",
    "    def add(self,a='Navin',b='Tom',c='Jerry'):\n",
    "        \n",
    "      print(\"Name is a\",'Navin','Tom', 'and Jerry')\n",
    "        \n",
    "        \n",
    "        \n",
    "a1=Addition()\n",
    "print(a1.add(10,20))\n",
    "\n",
    "b1=Sum()\n",
    "b1.add()\n",
    "      \n",
    "         "
   ]
  },
  {
   "cell_type": "code",
   "execution_count": null,
   "metadata": {},
   "outputs": [],
   "source": [
    "##3. Write two methods with the same name and same number of parameters of same type and call from main method."
   ]
  },
  {
   "cell_type": "code",
   "execution_count": 37,
   "metadata": {},
   "outputs": [
    {
     "name": "stdout",
     "output_type": "stream",
     "text": [
      "30\n",
      "70\n"
     ]
    }
   ],
   "source": [
    "class Addition:\n",
    "    def add(self,a=10,b=20):\n",
    "        s=a+b\n",
    "        \n",
    "        return s\n",
    "        \n",
    "class Sum:\n",
    "    def add(self,a=30,b=40):\n",
    "        s=a+b\n",
    "         \n",
    "        return s\n",
    "        \n",
    "a1=Addition()\n",
    "print(a1.add())\n",
    "\n",
    "b1=Sum()\n",
    "print(b1.add())\n",
    "      "
   ]
  },
  {
   "cell_type": "code",
   "execution_count": 38,
   "metadata": {},
   "outputs": [],
   "source": [
    "##4. Write two methods with the same name and same number of parameters of different type and call from main method."
   ]
  },
  {
   "cell_type": "code",
   "execution_count": 39,
   "metadata": {},
   "outputs": [
    {
     "name": "stdout",
     "output_type": "stream",
     "text": [
      "30\n",
      "Name is a Navin Tom and Jerry\n"
     ]
    }
   ],
   "source": [
    "class Addition:\n",
    "    def add(self,a,b):\n",
    "        s=a+b\n",
    "        \n",
    "        return s\n",
    "        \n",
    "class Sum:\n",
    "    def add(self,a='Navin',b='Tom'):\n",
    "        \n",
    "      print(\"Name is a\",'Navin','Tom', 'and Jerry')\n",
    "        \n",
    "        \n",
    "        \n",
    "a1=Addition()\n",
    "print(a1.add(10,20))\n",
    "\n",
    "b1=Sum()\n",
    "b1.add()"
   ]
  },
  {
   "cell_type": "code",
   "execution_count": 40,
   "metadata": {},
   "outputs": [],
   "source": [
    "##5. Write two methods with the same name, number of parameters and data type but different return Type."
   ]
  },
  {
   "cell_type": "code",
   "execution_count": 46,
   "metadata": {},
   "outputs": [
    {
     "name": "stdout",
     "output_type": "stream",
     "text": [
      "0.5\n",
      "0.75\n"
     ]
    }
   ],
   "source": [
    "class Intdivision:\n",
    "    def div(self,a,b):\n",
    "        d=a/b\n",
    "        \n",
    "        return d\n",
    "        \n",
    "class Floatdivision:\n",
    "    def div(self,a,b):\n",
    "        d=a/b\n",
    "        \n",
    "        return d\n",
    "        \n",
    "i1=Intdivision()\n",
    "print(i1.div(10,20))\n",
    "\n",
    "f1=Floatdivision()\n",
    "print(f1.div(30,40))"
   ]
  },
  {
   "cell_type": "code",
   "execution_count": null,
   "metadata": {},
   "outputs": [],
   "source": []
  }
 ],
 "metadata": {
  "kernelspec": {
   "display_name": "Python 3",
   "language": "python",
   "name": "python3"
  },
  "language_info": {
   "codemirror_mode": {
    "name": "ipython",
    "version": 3
   },
   "file_extension": ".py",
   "mimetype": "text/x-python",
   "name": "python",
   "nbconvert_exporter": "python",
   "pygments_lexer": "ipython3",
   "version": "3.7.3"
  }
 },
 "nbformat": 4,
 "nbformat_minor": 2
}
