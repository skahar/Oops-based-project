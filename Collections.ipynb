{
 "cells": [
  {
   "cell_type": "code",
   "execution_count": 6,
   "metadata": {},
   "outputs": [],
   "source": [
    "##1. Create an ArrayList of type String with 10 string elements. Add 10 string elements to \n",
    "##ArrayList and perform operations\n",
    "##Add an element to the ArrayList\n",
    "##Iterate through the ArrayList by using Iterator object\n",
    "##Add an element at a specific index\n",
    "##Remove an element from the ArrayList, Remove at an index\n",
    "##Update the element at a specific index\n",
    "##Check the element is present at a particular index\n",
    "##Get an element at a particular index\n",
    "##Find out the size of the ArrayList\n",
    "##Check the given element is present in the ArrayList\n",
    "##Remove all elements of the ArrayList."
   ]
  },
  {
   "cell_type": "code",
   "execution_count": 20,
   "metadata": {},
   "outputs": [
    {
     "name": "stdout",
     "output_type": "stream",
     "text": [
      "['one', 'Two', 'Three', 'Four', 'Five', 'Six', 'Seven', 'Eight', 'Nine', 'Ten']\n",
      "['one', 'Two', 'Three', 'Four', 'Five', 'Six', 'Seven', 'Eight', 'Nine', 'Ten', 'Eleven']\n",
      "one\n",
      "Two\n",
      "Three\n",
      "Four\n",
      "Five\n",
      "Six\n",
      "Seven\n",
      "Eight\n",
      "Nine\n",
      "Ten\n",
      "Eleven\n",
      "5\n",
      "one\n",
      "No\n"
     ]
    },
    {
     "data": {
      "text/plain": [
       "[]"
      ]
     },
     "execution_count": 20,
     "metadata": {},
     "output_type": "execute_result"
    }
   ],
   "source": [
    "## Create an ArrayList of type String with 10 string elements. Add 10 string elements.\n",
    "string=[\"one\",\"Two\",\"Three\",\"Four\",\"Five\",\"Six\",\"Seven\",\"Eight\",\"Nine\",\"Ten\"]\n",
    "print(string)\n",
    "\n",
    "##Add an element to the ArrayList.\n",
    "string.append(\"Eleven\")\n",
    "print(string)\n",
    "\n",
    "##Iterate through the ArrayList by using Iterator object.\n",
    "iter_obj=iter(string)\n",
    "while True:\n",
    "    try:\n",
    "        element=next(iter_obj)\n",
    "        print(element)\n",
    "    except StopIteration:\n",
    "        break\n",
    "        \n",
    "##Add an element at a specific index.\n",
    "string.insert(2,\"Fifty\")\n",
    "string\n",
    "\n",
    "##Remove an element from the ArrayList, Remove at an index.\n",
    "del string[1]\n",
    "string\n",
    "\n",
    "##Update the element at a specific index.\n",
    "string[10]=\"Twenty\"\n",
    "string\n",
    "\n",
    "##Check the element is present at a particular index.\n",
    "print(string.index(\"Six\"))\n",
    "\n",
    "##Get an element at a particular index.\n",
    "print(string[0])\n",
    "\n",
    "##Find out the size of the ArrayList.\n",
    "len(string)\n",
    "\n",
    "##Check the given element is present in the ArrayList.\n",
    "if \"Forty\" in string:\n",
    "    print(\"Yes\")\n",
    "else:\n",
    "    print(\"No\")\n",
    "    \n",
    "##Remove all elements of the ArrayList.\n",
    "string.clear()\n",
    "string\n"
   ]
  },
  {
   "cell_type": "code",
   "execution_count": 21,
   "metadata": {},
   "outputs": [],
   "source": [
    "##2. Create a HashMap with at least 10 key value pairs of the Student ID and Name\n",
    "##Insert a Key value mapping into the map\n",
    "##Fetch the value of a Key\n",
    "##Create a clone/copy of HashMap\n",
    "##Check if the given Key is in the Map\n",
    "##Check if the value is in the Map\n",
    "##Check if the map is empty\n",
    "##Print the size of the Map to the console\n",
    "##Print all the Keys of the map to the console\n",
    "##Print all the Keys of the map to the console\n",
    "##Remove a specific Key-value pair\n",
    "##Copy all the elements of the Map to another Map"
   ]
  },
  {
   "cell_type": "code",
   "execution_count": 18,
   "metadata": {},
   "outputs": [
    {
     "name": "stdout",
     "output_type": "stream",
     "text": [
      "{'Vivek': '001', 'Vijay': '002', 'Tom': '003', 'Jerry': '004', 'Love': '005', 'Kush': '006', 'Ham': '007', 'Herry': '008', 'Honey': '009', 'Bunny': '010'}\n",
      "001\n",
      "008\n",
      "{'Vivek': '001', 'Vijay': '002', 'Tom': '003', 'Jerry': '004', 'Love': '005', 'Kush': '006', 'Ham': '007', 'Herry': '008', 'Honey': '009', 'Bunny': '010'}\n",
      "Yes,'Tom' is one of the key in the dict dictionary\n",
      "Is 001 present in dictionary : True\n",
      "Is dictionary empty? : False\n",
      "10\n",
      "Vivek\n",
      "Vijay\n",
      "Tom\n",
      "Jerry\n",
      "Love\n",
      "Kush\n",
      "Ham\n",
      "Herry\n",
      "Honey\n",
      "Bunny\n",
      "001\n",
      "002\n",
      "003\n",
      "004\n",
      "005\n",
      "006\n",
      "007\n",
      "008\n",
      "009\n",
      "010\n",
      "{'Vijay': '002', 'Tom': '003', 'Jerry': '004', 'Love': '005', 'Kush': '006', 'Ham': '007', 'Herry': '008', 'Honey': '009', 'Bunny': '010'}\n"
     ]
    },
    {
     "data": {
      "text/plain": [
       "{'Vijay': '002',\n",
       " 'Tom': '003',\n",
       " 'Jerry': '004',\n",
       " 'Love': '005',\n",
       " 'Kush': '006',\n",
       " 'Ham': '007',\n",
       " 'Herry': '008',\n",
       " 'Honey': '009',\n",
       " 'Bunny': '010'}"
      ]
     },
     "execution_count": 18,
     "metadata": {},
     "output_type": "execute_result"
    }
   ],
   "source": [
    "##Create a HashMap with at least 10 key value pairs of the Student ID and Name.\n",
    "dict={\"Vivek\":\"001\",\"Vijay\":\"002\",\"Tom\":\"003\",\"Jerry\":\"004\",\"Love\":\"005\",\"Kush\":\"006\",\"Ham\":\"007\",\"Herry\":\"008\",\"Honey\":\"009\",\n",
    "     \"Bunny\":\"010\"}\n",
    "print(dict)\n",
    "\n",
    "##Fetch the value of a Key.\n",
    "print(dict[\"Vivek\"])\n",
    "print(dict[\"Herry\"])\n",
    "\n",
    "##Create a clone/copy of HashMap.\n",
    "mydict=dict.copy()\n",
    "print(mydict)\n",
    "\n",
    "##Check if the given Key is in the Map.\n",
    "if \"Tom\" in dict:\n",
    "    print(\"Yes,'Tom' is one of the key in the dict dictionary\")\n",
    "    \n",
    "####Check if the value is in the Map.\n",
    "res=\"001\" in dict.values()\n",
    "print(\"Is 001 present in dictionary : \" + str(res))\n",
    "\n",
    "##Check if the map is empty.\n",
    "res=not bool(dict)\n",
    "print(\"Is dictionary empty? : \" + str(res))\n",
    "\n",
    "##Print the size of the Map to the console.\n",
    "print(len(dict))\n",
    "\n",
    "##Print all the Keys of the map to the console.\n",
    "for x in dict:\n",
    "    print(x)\n",
    "\n",
    "##Print all the values of the map to the console.\n",
    "for x in dict:\n",
    "    print(dict[x])\n",
    "    \n",
    "##Remove a specific Key-value pair.\n",
    "dict.pop('Vivek')\n",
    "print(dict)\n",
    "\n",
    "##Copy all the elements of the Map to another Map.\n",
    "mydict=dict.copy()\n",
    "mydict\n"
   ]
  },
  {
   "cell_type": "code",
   "execution_count": null,
   "metadata": {},
   "outputs": [],
   "source": []
  },
  {
   "cell_type": "code",
   "execution_count": null,
   "metadata": {},
   "outputs": [],
   "source": []
  }
 ],
 "metadata": {
  "kernelspec": {
   "display_name": "Python 3",
   "language": "python",
   "name": "python3"
  },
  "language_info": {
   "codemirror_mode": {
    "name": "ipython",
    "version": 3
   },
   "file_extension": ".py",
   "mimetype": "text/x-python",
   "name": "python",
   "nbconvert_exporter": "python",
   "pygments_lexer": "ipython3",
   "version": "3.7.3"
  }
 },
 "nbformat": 4,
 "nbformat_minor": 2
}
