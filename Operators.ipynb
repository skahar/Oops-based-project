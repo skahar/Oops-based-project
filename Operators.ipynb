{
 "cells": [
  {
   "cell_type": "code",
   "execution_count": 1,
   "metadata": {},
   "outputs": [],
   "source": [
    "##1. Write a function for arithmetic operators(+,-,*,/)\n"
   ]
  },
  {
   "cell_type": "code",
   "execution_count": 22,
   "metadata": {},
   "outputs": [
    {
     "name": "stdout",
     "output_type": "stream",
     "text": [
      "The sum is : 25\n",
      "The sub is : 9\n",
      "The mul is : 54\n",
      "The div is : 4.0\n"
     ]
    }
   ],
   "source": [
    "##Addition\n",
    "\n",
    "def add_num(x,y):\n",
    "    sum=x+y;\n",
    "    return(sum);\n",
    "\n",
    "\n",
    "x=12\n",
    "y=13\n",
    "\n",
    "print(\"The sum is :\",add_num(x,y))\n",
    "\n",
    "##Subtraction\n",
    "\n",
    "def sub_num(x,y):\n",
    "    sub=x-y;\n",
    "    return(sub);\n",
    "x=25\n",
    "y=16\n",
    "\n",
    "print(\"The sub is :\",sub_num(x,y))\n",
    "\n",
    "##Multiplication\n",
    "\n",
    "def mul_num(x,y):\n",
    "    mul=x*y;\n",
    "    return(mul);\n",
    "\n",
    "x=9\n",
    "y=6\n",
    "\n",
    "print(\"The mul is :\",mul_num(x,y))\n",
    "\n",
    "##Division\n",
    "\n",
    "def div_num(a,b):\n",
    "    div=a/b;\n",
    "    return(div);\n",
    "\n",
    "a=40\n",
    "b=10\n",
    "\n",
    "print(\"The div is :\",div_num(a,b))\n"
   ]
  },
  {
   "cell_type": "code",
   "execution_count": 15,
   "metadata": {},
   "outputs": [],
   "source": [
    "##2. Write a method for increment and decrement operators(++, --)"
   ]
  },
  {
   "cell_type": "code",
   "execution_count": 20,
   "metadata": {},
   "outputs": [
    {
     "name": "stdout",
     "output_type": "stream",
     "text": [
      "0\n",
      "1\n",
      "2\n",
      "3\n",
      "4\n",
      "5\n",
      "6\n",
      "7\n",
      "8\n",
      "9\n",
      "10\n",
      "11\n",
      "12\n",
      "13\n",
      "14\n",
      "15\n",
      "16\n",
      "17\n",
      "18\n",
      "19\n",
      "0\n",
      "-1\n",
      "-2\n",
      "-3\n",
      "-4\n",
      "-5\n",
      "-6\n",
      "-7\n",
      "-8\n",
      "-9\n",
      "-10\n"
     ]
    }
   ],
   "source": [
    "##Increment Operator\n",
    "a=0\n",
    "start=0\n",
    "end=20\n",
    "\n",
    "for x in range(start,end):\n",
    "    print(a)\n",
    "    a +=1\n",
    "    \n",
    "##Decrement Operator\n",
    "a=0\n",
    "start=0\n",
    "end=11\n",
    "\n",
    "for x in range(start,end):\n",
    "    print(a)\n",
    "    a -=1\n",
    "    \n",
    "\n"
   ]
  },
  {
   "cell_type": "code",
   "execution_count": null,
   "metadata": {},
   "outputs": [],
   "source": [
    "##3. Program to equal operator and not equal operators"
   ]
  },
  {
   "cell_type": "code",
   "execution_count": 2,
   "metadata": {},
   "outputs": [
    {
     "name": "stdout",
     "output_type": "stream",
     "text": [
      "True\n",
      "True\n"
     ]
    }
   ],
   "source": [
    "##Equal Operator\n",
    "x=12\n",
    "y=12\n",
    "result = x==y\n",
    "print(result)\n",
    "\n",
    "##Not Equal Operator\n",
    "x=20\n",
    "y=30\n",
    "result = x!=y\n",
    "print(result)\n"
   ]
  },
  {
   "cell_type": "code",
   "execution_count": null,
   "metadata": {},
   "outputs": [],
   "source": [
    "##4. Write a program to find the two numbers equal or not"
   ]
  },
  {
   "cell_type": "code",
   "execution_count": 3,
   "metadata": {},
   "outputs": [
    {
     "name": "stdout",
     "output_type": "stream",
     "text": [
      "False\n"
     ]
    }
   ],
   "source": [
    "x=5\n",
    "y=9\n",
    "result = x==y\n",
    "print(result)"
   ]
  },
  {
   "cell_type": "code",
   "execution_count": null,
   "metadata": {},
   "outputs": [],
   "source": [
    "##5. Programs on Logical AND,OR operator and Logical NOT"
   ]
  },
  {
   "cell_type": "code",
   "execution_count": 13,
   "metadata": {},
   "outputs": [
    {
     "name": "stdout",
     "output_type": "stream",
     "text": [
      "False\n",
      "True\n"
     ]
    },
    {
     "data": {
      "text/plain": [
       "True"
      ]
     },
     "execution_count": 13,
     "metadata": {},
     "output_type": "execute_result"
    }
   ],
   "source": [
    "##Logical AND\n",
    "x=8\n",
    "print((x>9)and(x>5))\n",
    "\n",
    "##Logical OR\n",
    "x=5\n",
    "print(x>2 or x>8)\n",
    "\n",
    "##Logical NOT\n",
    "x=7\n",
    "not(7>9)"
   ]
  },
  {
   "cell_type": "code",
   "execution_count": null,
   "metadata": {},
   "outputs": [],
   "source": [
    "##6. Program for relational operators (<,<==, >, >==)"
   ]
  },
  {
   "cell_type": "code",
   "execution_count": 24,
   "metadata": {},
   "outputs": [
    {
     "name": "stdout",
     "output_type": "stream",
     "text": [
      "False\n",
      "True\n",
      "False\n",
      "True\n"
     ]
    }
   ],
   "source": [
    "##Less than\n",
    "x=14\n",
    "y=8\n",
    "print(x<y)\n",
    "\n",
    "##Greater than\n",
    "a=16\n",
    "b=9\n",
    "print(a>b)\n",
    "\n",
    "##Less than equal to\n",
    "x=5\n",
    "y=3\n",
    "print(x<=3)\n",
    "\n",
    "##Greater than equal to\n",
    "x=5\n",
    "y=3\n",
    "print(x>=3)\n",
    "\n"
   ]
  },
  {
   "cell_type": "code",
   "execution_count": null,
   "metadata": {},
   "outputs": [],
   "source": [
    "##7. Print the smaller and larger number"
   ]
  },
  {
   "cell_type": "code",
   "execution_count": 28,
   "metadata": {},
   "outputs": [
    {
     "name": "stdout",
     "output_type": "stream",
     "text": [
      "Enter two numbers :\n",
      "34\n",
      "45\n",
      "\n",
      " The smallest number is : 45\n"
     ]
    }
   ],
   "source": [
    "print(\"Enter two numbers :\")\n",
    "num1=int(input())\n",
    "num2=int(input())\n",
    "if(num1>num2):\n",
    "  print(\"\\n The largest number is :\",num1)\n",
    "else:\n",
    "  print(\"\\n The smallest number is :\",num2)\n",
    "    "
   ]
  },
  {
   "cell_type": "code",
   "execution_count": null,
   "metadata": {},
   "outputs": [],
   "source": []
  }
 ],
 "metadata": {
  "kernelspec": {
   "display_name": "Python 3",
   "language": "python",
   "name": "python3"
  },
  "language_info": {
   "codemirror_mode": {
    "name": "ipython",
    "version": 3
   },
   "file_extension": ".py",
   "mimetype": "text/x-python",
   "name": "python",
   "nbconvert_exporter": "python",
   "pygments_lexer": "ipython3",
   "version": "3.7.3"
  }
 },
 "nbformat": 4,
 "nbformat_minor": 2
}
