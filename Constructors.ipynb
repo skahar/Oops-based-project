{
 "cells": [
  {
   "cell_type": "code",
   "execution_count": 2,
   "metadata": {},
   "outputs": [],
   "source": [
    "##1. Write a class with a default constructor, one argument constructor and two argument constructors. Instantiate the class to call all the constructors of that class from a main class"
   ]
  },
  {
   "cell_type": "code",
   "execution_count": 6,
   "metadata": {},
   "outputs": [
    {
     "name": "stdout",
     "output_type": "stream",
     "text": [
      "Add\n",
      "10\n"
     ]
    },
    {
     "data": {
      "text/plain": [
       "5"
      ]
     },
     "execution_count": 6,
     "metadata": {},
     "output_type": "execute_result"
    }
   ],
   "source": [
    "class Calculate():\n",
    "    def __init__(self):\n",
    "        print(\"Add\")\n",
    "    \n",
    "    def process(self,a=10):\n",
    "        print(a)\n",
    "        \n",
    "    def sub(self,a=10,b=5):\n",
    "        s=a-b\n",
    "        return s\n",
    "    \n",
    "c1=Calculate()\n",
    "c1.process()\n",
    "c1.sub()\n",
    "        \n",
    "        \n",
    "        "
   ]
  },
  {
   "cell_type": "code",
   "execution_count": 7,
   "metadata": {},
   "outputs": [],
   "source": [
    "##2. Call the constructors(both default and argument constructors) of super class from a child class."
   ]
  },
  {
   "cell_type": "code",
   "execution_count": 11,
   "metadata": {},
   "outputs": [
    {
     "name": "stdout",
     "output_type": "stream",
     "text": [
      "Add\n",
      "10\n"
     ]
    }
   ],
   "source": [
    "class Calculate():\n",
    "    def __init__(self):\n",
    "        print(\"Add\")\n",
    "    \n",
    "    def process(self,a=10):\n",
    "        print(a)\n",
    "        \n",
    "class Method(Calculate):\n",
    "    \n",
    "    def math(self,a=5,b=9):\n",
    "        mul=a*b\n",
    "        \n",
    "        return mul\n",
    "    \n",
    "m1=Method()\n",
    "m1.process()\n"
   ]
  },
  {
   "cell_type": "code",
   "execution_count": 12,
   "metadata": {},
   "outputs": [],
   "source": [
    "##3. Apply private, public, protected and default access modifiers to the constructor."
   ]
  },
  {
   "cell_type": "code",
   "execution_count": 13,
   "metadata": {},
   "outputs": [],
   "source": [
    "##4. Write constructors with return type int and String."
   ]
  },
  {
   "cell_type": "code",
   "execution_count": 30,
   "metadata": {},
   "outputs": [
    {
     "name": "stdout",
     "output_type": "stream",
     "text": [
      "Names : Tom Jerry\n"
     ]
    }
   ],
   "source": [
    "class Calculate():\n",
    "    def __init__(self,a=5,b=7):\n",
    "        mul=a*b\n",
    "        \n",
    "        print(mul)\n",
    "    def __init__(self,name1=\"Tom\",name2=\"Jerry\"):\n",
    "        \n",
    "        print(\"Names :\",name1,name2)\n",
    "        \n",
    "c1=Calculate()\n"
   ]
  },
  {
   "cell_type": "code",
   "execution_count": 31,
   "metadata": {},
   "outputs": [],
   "source": [
    "##5. Try to call the constructor multiple times with the same object."
   ]
  },
  {
   "cell_type": "code",
   "execution_count": 36,
   "metadata": {},
   "outputs": [
    {
     "name": "stdout",
     "output_type": "stream",
     "text": [
      "Add\n",
      "Add\n",
      "Add\n",
      "Add\n",
      "Add\n"
     ]
    }
   ],
   "source": [
    "class Calculate():\n",
    "    def __init__(self):\n",
    "        print(\"Add\")\n",
    "    \n",
    "    def process(self,a=10):\n",
    "        print(a)\n",
    "        \n",
    "c1=Calculate()\n",
    "c1=Calculate()\n",
    "c1=Calculate()\n",
    "c1=Calculate()\n",
    "c1=Calculate()"
   ]
  },
  {
   "cell_type": "code",
   "execution_count": null,
   "metadata": {},
   "outputs": [],
   "source": []
  }
 ],
 "metadata": {
  "kernelspec": {
   "display_name": "Python 3",
   "language": "python",
   "name": "python3"
  },
  "language_info": {
   "codemirror_mode": {
    "name": "ipython",
    "version": 3
   },
   "file_extension": ".py",
   "mimetype": "text/x-python",
   "name": "python",
   "nbconvert_exporter": "python",
   "pygments_lexer": "ipython3",
   "version": "3.7.3"
  }
 },
 "nbformat": 4,
 "nbformat_minor": 2
}
